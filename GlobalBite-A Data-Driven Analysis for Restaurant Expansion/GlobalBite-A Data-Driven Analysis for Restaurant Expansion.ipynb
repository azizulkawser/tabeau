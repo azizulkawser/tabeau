{
 "cells": [
  {
   "attachments": {},
   "cell_type": "markdown",
   "metadata": {},
   "source": [
    "# <font color = #ff5349> Dash</font><font color = #FFDB58>Delicious </font>\n",
    "<font color = acacaa> <b> Project GlobalBite: A Data-Driven Analysis for Restaurant Expansion in Major Cities Worldwide</b> </font>\n",
    "***"
   ]
  },
  {
   "attachments": {},
   "cell_type": "markdown",
   "metadata": {},
   "source": [
    "## <font color = #ff5349> Team</font><font color = #FFDB58> Members </font>\n",
    "<font color = 'black'> <li> Mohammad Azizul Kawser  \n",
    "&emsp; azizul.kawser@student.oulu.fi </li><li> Phung Tran  \n",
    "&emsp; Phung.Tran@student.oulu.fi </li><li> Nándor Hajdu  \n",
    "&emsp; Nandor.Hajdu@student.oulu.fi </li><li> Trang Nguyen  \n",
    "&emsp; Trang.Nguyen@student.oulu.fi </li><li> Jinyoung Jeon  \n",
    "&emsp; Jinyoung.Jeon@student.oulu.fi </li></font>\n",
    "***\n",
    "\n"
   ]
  },
  {
   "attachments": {},
   "cell_type": "markdown",
   "metadata": {},
   "source": [
    "## <font color = #ff5349>Project</font><font color = #FFDB58> Description </font>\n",
    "<font color = 'black'> DashDelicious(DD) understands the importance of market research and data analysis in identifying new growth opportunities. The company has invested heavily in building a robust Business Intelligence team to inform its expansion strategy. By leveraging data, DD can identify new markets that offer favorable conditions for expansion, such as a growing middle class, high disposable income, and a low cost of living.   \n",
    "  \n",
    "GlobalBite is a data-driven analysis project that aims to identify potential new markets for DD. The project is part of a broader market research campaign aimed at expanding DD’s presence in major cities worldwide. GlobalBite focuses on the cost of living, expense, and salary data to pinpoint potential cities for deeper research into potential new markets for DD.Through GlobalBite, DD can better understand the market conditions in different cities, allowing the company to make more informed decisions about where to focus its expansion efforts. This data-driven method enables DD to stay ahead of its competition by being proactive in identifying potential new markets.\n",
    "</font>\n",
    "\n",
    "***\n"
   ]
  },
  {
   "attachments": {},
   "cell_type": "markdown",
   "metadata": {},
   "source": [
    "## <font color = #ff5349>Business</font><font color = #FFDB58> Questions</font>\n",
    "<font color = 'black'>GlobalBite is designed to answer several critical business questions related to potential new markets:</font>\n",
    "<font color = 'black'> <ol> <li>The project focuses on comparing the cost of living in various regions. This will involve determining the average cost of living index worldwide and how this varies by region or country in which DD targets to operate. This information is essential for identifying cities that offer cost-effective expansion opportunities for DD.</li><li>The project aims to explore potential customers’ purchasing power in different cities worldwide. This will involve analyzing the average salary in different cities and the cost of different factors such as rent, groceries, or restaurant prices. The project will also examine which expenses have the most significant impact on the cost of living in different cities. Understanding these factors is crucial in determining the affordability of DD products and services in potential new markets.</li><li>The project will investigate the difference in the cost of space between large metropolitan areas and smaller cities. This is important in identifying new markets offering a cost-effective expansion opportunity for DD. By understanding the cost of space in different cities, DD can identify new market opportunities that offer optimal returns on investment.</li><li>The project aims to develop a scoring model for cities around the world based on the available data. This scoring model will consider factors such as cost of living, purchasing power, and other relevant metrics to determine the most favorable cities for DD’s potential expansion. This will enable the company to make informed decisions about which cities to target, based on their potential for profitability and success.</li></ol></font>\n",
    "\n",
    "***\n"
   ]
  },
  {
   "attachments": {},
   "cell_type": "markdown",
   "metadata": {},
   "source": [
    "## <font color = #ff5349>Data</font><font color = #FFDB58> Description</font>\n",
    "<font color = 'black'>The Business Intelligence team embarked on an exploratory analysis of potential markets for DD's new restaurant venture. To achieve this, they consolidated three different datasets found in the public domain. \n",
    "The <a href=\"https://www.kaggle.com/datasets/mvieira101/global-cost-of-living?select=cost-of-living.csv\">\"Global Cost of Living\"</a> dataset from Kaggle provided information on various cost of living factors, such as 'Meal price', 'McMeal at McDonald's price', space rental cost, 'Average Monthly Net Salary (After Tax) (USD)', along with other 41 entities. \n",
    "The <a href=\"https://www.kaggle.com/datasets/debdutta/cost-of-living-index-by-country\">\"Cost of Living Index by Cities\"</a> dataset from Kaggle provided data on the \"Cost of Living Plus Rent Index\", \"Rent Index\", \"Groceries Index\", \"Restaurants Index\", and \"Local Purchasing Power Index\". \n",
    "The third dataset, <a href=\"https://public.opendatasoft.com/explore/dataset/geonames-all-cities-with-a-population-1000/table/?disjunctive.cou_name_en&sort=name\">\"Geonames - All Cities with a population > 1000\"</a>, from Opendatasoft, included information such as Geoname ID, Population, and Coordinates. The consolidation resulted in a dataset of 526 cities from 115 different countries, providing detailed and relevant information on various cost of living factors. However, the team realized that there were a few missing pieces of information necessary to conduct a more comprehensive analysis. To overcome these data deficiencies, the Business Intelligence team merged the primary dataset with additional relevant datasets. The resulting comprehensive dataset allowed for a thorough exploration of potential markets for DD's new restaurant venture.  \n",
    "The team recognized the potential usefulness of the country economic data, as it could provide valuable insights into the economic conditions in different regions and cities, which would be essential for the analysis and kept for future scope of work.</font>\n",
    "\n",
    "***"
   ]
  },
  {
   "attachments": {},
   "cell_type": "markdown",
   "metadata": {},
   "source": [
    "## <font color = #ff5349>Calculated</font><font color = #FFDB58> Fields</font>\n",
    "In this project, team developed two calculated fields, “Affordability of Fast-Food Meals (Net Income/McMeals prices)” and “Tendency to eat out Index (GI/RPI)” to analyze and compare different factors related to affordability, consumer behavior, and purchasing power to identify potential markets for the DD's new restaurant venture.\n",
    "\n",
    "<li><b>Affordability of Fast-Food Meals (Net Income/McMeals prices):</b> This calculated field is derived by dividing the net income of customers by the average price of McMeals, which is considered a similar product to our offerings. This field provides insights into the affordability of fast-food meals for potential customers, with a higher value indicating better affordability. This information can help us assess the purchasing power of the target market and identify regions where customers may have higher disposable income to spend on dining out.</li><li><b>Tendency to eat out Index (GI/RPI):</b> This calculated field is obtained by comparing the prices of groceries and restaurants, using the Groceries Index (GI) and Restaurants Index (RPI) from the dataset. A higher value in this field indicates a greater tendency of customers to eat out at restaurants, which can provide insights into consumer behavior and preferences for dining options. This information can help us identify regions where customers are more inclined to dine out, indicating a potential market with higher demand for restaurant services.</li>"
   ]
  },
  {
   "attachments": {},
   "cell_type": "markdown",
   "metadata": {},
   "source": [
    "***"
   ]
  },
  {
   "attachments": {},
   "cell_type": "markdown",
   "metadata": {},
   "source": [
    "## <font color = #ff5349>Scoring</font><font color = #FFDB58> Model</font>\n",
    "A scoring model has been developed for ranking cities that takes into consideration four calculated fields: \n",
    "<li><b>\"Affordability of Fast-Food Meals (Net Income/McMeals prices)\"</li><li>\"Tendency to eat out Index (GI/RPI)\"</li><li>\"Population (normalized)\" and <li>\"Local Purchasing Power\"</li></b>  \n",
    "\n",
    "Calculated fields, each with a specific weightage, contribute to the overall score and answer the business question of finding potential markets to enter. The model includes \"Affordability of Fast-Food Meals\" (25%), \"Tendency to eat out Index\" (30%), \"Population (normalized)\" (20%), and \"Local Purchasing Power\" (25%). By analyzing these fields, we can identify regions with favorable values, helping DD make informed decisions on where to expand its restaurant operations and tap into new markets with growth opportunities."
   ]
  },
  {
   "attachments": {},
   "cell_type": "markdown",
   "metadata": {},
   "source": [
    "***"
   ]
  },
  {
   "attachments": {},
   "cell_type": "markdown",
   "metadata": {},
   "source": [
    "## <font color = 'black'> <a href=\"https://public.tableau.com/app/profile/mohammad.azizul.kawser/viz/DashDeliciousDashboard_v1_2/Dashboard1\">Cost of Living Dashboard</a></font>\n",
    "\n"
   ]
  },
  {
   "cell_type": "code",
   "execution_count": 8,
   "metadata": {
    "vscode": {
     "languageId": "html"
    }
   },
   "outputs": [
    {
     "data": {
      "text/html": [
       "<div class='tableauPlaceholder' id='viz1683628325149' style='position: relative'><noscript><a href='#'><img alt='Dashboard 1 ' src='https:&#47;&#47;public.tableau.com&#47;static&#47;images&#47;Da&#47;DashDeliciousDashboard_v1_2&#47;Dashboard1&#47;1_rss.png' style='border: none' /></a></noscript><object class='tableauViz'  style='display:none;'><param name='host_url' value='https%3A%2F%2Fpublic.tableau.com%2F' /> <param name='embed_code_version' value='3' /> <param name='site_root' value='' /><param name='name' value='DashDeliciousDashboard_v1_2&#47;Dashboard1' /><param name='tabs' value='no' /><param name='toolbar' value='yes' /><param name='static_image' value='https:&#47;&#47;public.tableau.com&#47;static&#47;images&#47;Da&#47;DashDeliciousDashboard_v1_2&#47;Dashboard1&#47;1.png' /> <param name='animate_transition' value='yes' /><param name='display_static_image' value='yes' /><param name='display_spinner' value='yes' /><param name='display_overlay' value='yes' /><param name='display_count' value='yes' /><param name='language' value='en-US' /></object></div>                <script type='text/javascript'>                    var divElement = document.getElementById('viz1683628325149');                    var vizElement = divElement.getElementsByTagName('object')[0];                    if ( divElement.offsetWidth > 800 ) { vizElement.style.width='100%';vizElement.style.height=(divElement.offsetWidth*0.75)+'px';} else if ( divElement.offsetWidth > 500 ) { vizElement.style.width='100%';vizElement.style.height=(divElement.offsetWidth*0.75)+'px';} else { vizElement.style.width='100%';vizElement.style.height='2527px';}                     var scriptElement = document.createElement('script');                    scriptElement.src = 'https://public.tableau.com/javascripts/api/viz_v1.js';                    vizElement.parentNode.insertBefore(scriptElement, vizElement);                </script>\n"
      ],
      "text/plain": [
       "<IPython.core.display.HTML object>"
      ]
     },
     "metadata": {},
     "output_type": "display_data"
    }
   ],
   "source": [
    "%%html\n",
    "<div class='tableauPlaceholder' id='viz1683628325149' style='position: relative'><noscript><a href='#'><img alt='Dashboard 1 ' src='https:&#47;&#47;public.tableau.com&#47;static&#47;images&#47;Da&#47;DashDeliciousDashboard_v1_2&#47;Dashboard1&#47;1_rss.png' style='border: none' /></a></noscript><object class='tableauViz'  style='display:none;'><param name='host_url' value='https%3A%2F%2Fpublic.tableau.com%2F' /> <param name='embed_code_version' value='3' /> <param name='site_root' value='' /><param name='name' value='DashDeliciousDashboard_v1_2&#47;Dashboard1' /><param name='tabs' value='no' /><param name='toolbar' value='yes' /><param name='static_image' value='https:&#47;&#47;public.tableau.com&#47;static&#47;images&#47;Da&#47;DashDeliciousDashboard_v1_2&#47;Dashboard1&#47;1.png' /> <param name='animate_transition' value='yes' /><param name='display_static_image' value='yes' /><param name='display_spinner' value='yes' /><param name='display_overlay' value='yes' /><param name='display_count' value='yes' /><param name='language' value='en-US' /></object></div>                <script type='text/javascript'>                    var divElement = document.getElementById('viz1683628325149');                    var vizElement = divElement.getElementsByTagName('object')[0];                    if ( divElement.offsetWidth > 800 ) { vizElement.style.width='100%';vizElement.style.height=(divElement.offsetWidth*0.75)+'px';} else if ( divElement.offsetWidth > 500 ) { vizElement.style.width='100%';vizElement.style.height=(divElement.offsetWidth*0.75)+'px';} else { vizElement.style.width='100%';vizElement.style.height='2527px';}                     var scriptElement = document.createElement('script');                    scriptElement.src = 'https://public.tableau.com/javascripts/api/viz_v1.js';                    vizElement.parentNode.insertBefore(scriptElement, vizElement);                </script>"
   ]
  },
  {
   "attachments": {},
   "cell_type": "markdown",
   "metadata": {},
   "source": [
    "<img src=\"Dashboard_1.png\" alt=\"Dashboard 1\" />"
   ]
  },
  {
   "attachments": {},
   "cell_type": "markdown",
   "metadata": {},
   "source": [
    "***"
   ]
  },
  {
   "attachments": {},
   "cell_type": "markdown",
   "metadata": {},
   "source": [
    "## <font color = 'black'> <a href=\"https://public.tableau.com/app/profile/mohammad.azizul.kawser/viz/DashDeliciousDashboard_v1_2/Dashboard1\">Proposed New Market</a></font>\n",
    "\n"
   ]
  },
  {
   "cell_type": "code",
   "execution_count": 7,
   "metadata": {
    "vscode": {
     "languageId": "html"
    }
   },
   "outputs": [
    {
     "data": {
      "text/html": [
       "<div class='tableauPlaceholder' id='viz1683628362993' style='position: relative'><noscript><a href='#'><img alt=' ' src='https:&#47;&#47;public.tableau.com&#47;static&#47;images&#47;Da&#47;DashDeliciousDashboard_v1_2&#47;Dashboard2&#47;1_rss.png' style='border: none' /></a></noscript><object class='tableauViz'  style='display:none;'><param name='host_url' value='https%3A%2F%2Fpublic.tableau.com%2F' /> <param name='embed_code_version' value='3' /> <param name='site_root' value='' /><param name='name' value='DashDeliciousDashboard_v1_2&#47;Dashboard2' /><param name='tabs' value='no' /><param name='toolbar' value='yes' /><param name='static_image' value='https:&#47;&#47;public.tableau.com&#47;static&#47;images&#47;Da&#47;DashDeliciousDashboard_v1_2&#47;Dashboard2&#47;1.png' /> <param name='animate_transition' value='yes' /><param name='display_static_image' value='yes' /><param name='display_spinner' value='yes' /><param name='display_overlay' value='yes' /><param name='display_count' value='yes' /><param name='language' value='en-US' /></object></div>                <script type='text/javascript'>                    var divElement = document.getElementById('viz1683628362993');                    var vizElement = divElement.getElementsByTagName('object')[0];                    if ( divElement.offsetWidth > 800 ) { vizElement.style.width='100%';vizElement.style.height=(divElement.offsetWidth*0.75)+'px';} else if ( divElement.offsetWidth > 500 ) { vizElement.style.width='100%';vizElement.style.height=(divElement.offsetWidth*0.75)+'px';} else { vizElement.style.width='100%';vizElement.style.height='2127px';}                     var scriptElement = document.createElement('script');                    scriptElement.src = 'https://public.tableau.com/javascripts/api/viz_v1.js';                    vizElement.parentNode.insertBefore(scriptElement, vizElement);                </script>\n"
      ],
      "text/plain": [
       "<IPython.core.display.HTML object>"
      ]
     },
     "metadata": {},
     "output_type": "display_data"
    }
   ],
   "source": [
    "%%html\n",
    "<div class='tableauPlaceholder' id='viz1683628362993' style='position: relative'><noscript><a href='#'><img alt=' ' src='https:&#47;&#47;public.tableau.com&#47;static&#47;images&#47;Da&#47;DashDeliciousDashboard_v1_2&#47;Dashboard2&#47;1_rss.png' style='border: none' /></a></noscript><object class='tableauViz'  style='display:none;'><param name='host_url' value='https%3A%2F%2Fpublic.tableau.com%2F' /> <param name='embed_code_version' value='3' /> <param name='site_root' value='' /><param name='name' value='DashDeliciousDashboard_v1_2&#47;Dashboard2' /><param name='tabs' value='no' /><param name='toolbar' value='yes' /><param name='static_image' value='https:&#47;&#47;public.tableau.com&#47;static&#47;images&#47;Da&#47;DashDeliciousDashboard_v1_2&#47;Dashboard2&#47;1.png' /> <param name='animate_transition' value='yes' /><param name='display_static_image' value='yes' /><param name='display_spinner' value='yes' /><param name='display_overlay' value='yes' /><param name='display_count' value='yes' /><param name='language' value='en-US' /></object></div>                <script type='text/javascript'>                    var divElement = document.getElementById('viz1683628362993');                    var vizElement = divElement.getElementsByTagName('object')[0];                    if ( divElement.offsetWidth > 800 ) { vizElement.style.width='100%';vizElement.style.height=(divElement.offsetWidth*0.75)+'px';} else if ( divElement.offsetWidth > 500 ) { vizElement.style.width='100%';vizElement.style.height=(divElement.offsetWidth*0.75)+'px';} else { vizElement.style.width='100%';vizElement.style.height='2127px';}                     var scriptElement = document.createElement('script');                    scriptElement.src = 'https://public.tableau.com/javascripts/api/viz_v1.js';                    vizElement.parentNode.insertBefore(scriptElement, vizElement);                </script>"
   ]
  },
  {
   "attachments": {},
   "cell_type": "markdown",
   "metadata": {},
   "source": [
    "<img src=\"Dashboard_2.png\" alt=\"Dashboard 2\" />"
   ]
  },
  {
   "attachments": {},
   "cell_type": "markdown",
   "metadata": {},
   "source": [
    "***"
   ]
  }
 ],
 "metadata": {
  "kernelspec": {
   "display_name": "firstEnv",
   "language": "python",
   "name": "firstenv"
  },
  "language_info": {
   "codemirror_mode": {
    "name": "ipython",
    "version": 3
   },
   "file_extension": ".py",
   "mimetype": "text/x-python",
   "name": "python",
   "nbconvert_exporter": "python",
   "pygments_lexer": "ipython3",
   "version": "3.8.8"
  },
  "orig_nbformat": 4
 },
 "nbformat": 4,
 "nbformat_minor": 2
}
