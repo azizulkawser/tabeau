{
 "cells": [
  {
   "attachments": {},
   "cell_type": "markdown",
   "metadata": {},
   "source": [
    "# <font color = #ff5349> Dash</font><font color = 'Black'>Delicious </font>\n",
    "<font color = acacaa> <b> \"GlobalBite: A Data-Driven Analysis for Restaurant Expansion in Major Cities Worldwide\"</b> </font>\n",
    "***"
   ]
  },
  {
   "attachments": {},
   "cell_type": "markdown",
   "metadata": {},
   "source": [
    "## <font color = #ff5349> Team</font><font color = 'Black'> Member </font>\n",
    "<font color = 'black'> <li> Mohammad Azizul Kawser  \n",
    "&emsp; azizul.kawser@student.oulu.fi </li><li> Phung Tran  \n",
    "&emsp; Phung.Tran@student.oulu.fi </li><li> Nándor Hajdu  \n",
    "&emsp; Nandor.Hajdu@student.oulu.fi </li><li> Trang Nguyen  \n",
    "&emsp; Trang.Nguyen@student.oulu.fi </li><li> Jinyoung Jeon  \n",
    "&emsp; Jinyoung.Jeon@student.oulu.fi </li></font>\n",
    "***\n",
    "\n"
   ]
  },
  {
   "attachments": {},
   "cell_type": "markdown",
   "metadata": {},
   "source": [
    "## <font color = 'black'> Project description </font>\n",
    "<font color = 'black'> <li> DashDelicious(DD) understands the importance of market research and data analysis in identifying new growth opportunities. The company has invested heavily in building a robust Business Intelligence team to inform its expansion strategy. By leveraging data, DD can identify new markets that offer favorable conditions for expansion, such as a growing middle class, high disposable income, and a low cost of living.</li> <li>GlobalBite is a data-driven analysis project that aims to identify potential new markets for DD. The project is part of a broader market research campaign aimed at expanding DD’s presence in major cities worldwide. GlobalBite focuses on the cost of living, expense, and salary data to pinpoint potential cities for deeper research into potential new markets for DD.</li><li>Through GlobalBite, DD can better understand the market conditions in different cities, allowing the company to make more informed decisions about where to focus its expansion efforts. This data-driven method enables DD to stay ahead of its competition by being proactive in identifying potential new markets.</li>\n",
    "</font>\n",
    "\n",
    "***\n"
   ]
  },
  {
   "attachments": {},
   "cell_type": "markdown",
   "metadata": {},
   "source": [
    "## <font color = 'black'> Business Questions </font>\n",
    "<font color = 'black'>GlobalBite is designed to answer several critical business questions related to potential new markets:</font>\n",
    "<font color = 'black'> <ol> <li>The project focuses on comparing the cost of living in various regions. This will involve determining the average cost of living index worldwide and how this varies by region or country in which DD targets to operate. This information is essential for identifying cities that offer cost-effective expansion opportunities for DD.</li><li>The project aims to explore potential customers’ purchasing power in different cities worldwide. This will involve analyzing the average salary in different cities and the cost of different factors such as rent, groceries, or restaurant prices. The project will also examine which expenses have the most significant impact on the cost of living in different cities. Understanding these factors is crucial in determining the affordability of DD products and services in potential new markets.</li><li>The project will investigate the difference in the cost of space between large metropolitan areas and smaller cities. This is important in identifying new markets offering a cost-effective expansion opportunity for DD. By understanding the cost of space in different cities, DD can identify new market opportunities that offer optimal returns on investment.</li><li>The project aims to develop a scoring model for cities around the world based on the available data. This scoring model will consider factors such as cost of living, purchasing power, and other relevant metrics to determine the most favorable cities for DD’s potential expansion. This will enable the company to make informed decisions about which cities to target, based on their potential for profitability and success.</li></ol></font>\n",
    "\n",
    "***\n"
   ]
  },
  {
   "attachments": {},
   "cell_type": "markdown",
   "metadata": {},
   "source": [
    "## <font color = 'black'> Data Description  </font>\n",
    "<font color = 'black'>The Business Intelligence team embarked on an exploratory analysis of potential markets for DD's new restaurant venture. To achieve this, they consolidated three different datasets found in the public domain. \n",
    "The <a href=\"https://www.kaggle.com/datasets/mvieira101/global-cost-of-living?select=cost-of-living.csv\">\"Global Cost of Living\"</a> dataset from Kaggle provided information on various cost of living factors, such as 'Meal price', 'McMeal at McDonald's price', space rental cost, 'Average Monthly Net Salary (After Tax) (USD)', along with other 41 entities. \n",
    "The <a href=\"https://www.kaggle.com/datasets/debdutta/cost-of-living-index-by-country\">\"Cost of Living Index by Cities\"</a> dataset from Kaggle provided data on the \"Cost of Living Plus Rent Index\", \"Rent Index\", \"Groceries Index\", \"Restaurants Index\", and \"Local Purchasing Power Index\". \n",
    "The third dataset, <a href=\"https://public.opendatasoft.com/explore/dataset/geonames-all-cities-with-a-population-1000/table/?disjunctive.cou_name_en&sort=name\">\"Geonames - All Cities with a population > 1000\"</a>, from Opendatasoft, included information such as Geoname ID, Population, and Coordinates. The consolidation resulted in a dataset of 536 cities from 115 different countries, providing detailed and relevant information on various cost of living factors. However, the team realized that there were a few missing pieces of information necessary to conduct a more comprehensive analysis. To overcome these data deficiencies, the Business Intelligence team merged the primary dataset with additional relevant datasets, including the “Cost of Living Index 2022” dataset. The resulting comprehensive dataset allowed for a thorough exploration of potential markets for DD's new restaurant venture. Details regarding the final dataset and the methods employed to analyze it will be presented in the forthcoming sections. The team recognized the potential usefulness of the data source, as it could provide valuable insights into the economic conditions in different regions and cities, which was essential for the analysis.</font>\n",
    "\n",
    "***"
   ]
  },
  {
   "attachments": {},
   "cell_type": "markdown",
   "metadata": {},
   "source": [
    "## <font color = 'black'> <a href=\"https://public.tableau.com/shared/SB8N86987?:display_count=n&:origin=viz_share_link\">Cost of Living Dashboard</a></font>\n",
    "\n"
   ]
  },
  {
   "cell_type": "code",
   "execution_count": 4,
   "metadata": {
    "vscode": {
     "languageId": "html"
    }
   },
   "outputs": [
    {
     "data": {
      "text/html": [
       "<div class='tableauPlaceholder' id='viz1683463130139' style='position: relative'><noscript><a href='#'><img alt='Dashboard 1 ' src='https:&#47;&#47;public.tableau.com&#47;static&#47;images&#47;SB&#47;SB8N86987&#47;1_rss.png' style='border: none' /></a></noscript><object class='tableauViz'  style='display:none;'><param name='host_url' value='https%3A%2F%2Fpublic.tableau.com%2F' /> <param name='embed_code_version' value='3' /> <param name='path' value='shared&#47;SB8N86987' /> <param name='toolbar' value='yes' /><param name='static_image' value='https:&#47;&#47;public.tableau.com&#47;static&#47;images&#47;SB&#47;SB8N86987&#47;1.png' /> <param name='animate_transition' value='yes' /><param name='display_static_image' value='yes' /><param name='display_spinner' value='yes' /><param name='display_overlay' value='yes' /><param name='display_count' value='yes' /><param name='language' value='en-US' /></object></div>                <script type='text/javascript'>                    var divElement = document.getElementById('viz1683463130139');                    var vizElement = divElement.getElementsByTagName('object')[0];                    if ( divElement.offsetWidth > 800 ) { vizElement.style.width='100%';vizElement.style.height=(divElement.offsetWidth*0.75)+'px';} else if ( divElement.offsetWidth > 500 ) { vizElement.style.width='100%';vizElement.style.height=(divElement.offsetWidth*0.75)+'px';} else { vizElement.style.width='100%';vizElement.style.height='2227px';}                     var scriptElement = document.createElement('script');                    scriptElement.src = 'https://public.tableau.com/javascripts/api/viz_v1.js';                    vizElement.parentNode.insertBefore(scriptElement, vizElement);                </script>\n"
      ],
      "text/plain": [
       "<IPython.core.display.HTML object>"
      ]
     },
     "metadata": {},
     "output_type": "display_data"
    }
   ],
   "source": [
    "%%html\n",
    "<div class='tableauPlaceholder' id='viz1683463130139' style='position: relative'><noscript><a href='#'><img alt='Dashboard 1 ' src='https:&#47;&#47;public.tableau.com&#47;static&#47;images&#47;SB&#47;SB8N86987&#47;1_rss.png' style='border: none' /></a></noscript><object class='tableauViz'  style='display:none;'><param name='host_url' value='https%3A%2F%2Fpublic.tableau.com%2F' /> <param name='embed_code_version' value='3' /> <param name='path' value='shared&#47;SB8N86987' /> <param name='toolbar' value='yes' /><param name='static_image' value='https:&#47;&#47;public.tableau.com&#47;static&#47;images&#47;SB&#47;SB8N86987&#47;1.png' /> <param name='animate_transition' value='yes' /><param name='display_static_image' value='yes' /><param name='display_spinner' value='yes' /><param name='display_overlay' value='yes' /><param name='display_count' value='yes' /><param name='language' value='en-US' /></object></div>                <script type='text/javascript'>                    var divElement = document.getElementById('viz1683463130139');                    var vizElement = divElement.getElementsByTagName('object')[0];                    if ( divElement.offsetWidth > 800 ) { vizElement.style.width='100%';vizElement.style.height=(divElement.offsetWidth*0.75)+'px';} else if ( divElement.offsetWidth > 500 ) { vizElement.style.width='100%';vizElement.style.height=(divElement.offsetWidth*0.75)+'px';} else { vizElement.style.width='100%';vizElement.style.height='2227px';}                     var scriptElement = document.createElement('script');                    scriptElement.src = 'https://public.tableau.com/javascripts/api/viz_v1.js';                    vizElement.parentNode.insertBefore(scriptElement, vizElement);                </script>"
   ]
  },
  {
   "attachments": {},
   "cell_type": "markdown",
   "metadata": {},
   "source": [
    "<img src=\"/Users/imak/Documents/Python/Projects/Business Intelligence and Application/Dashboard_1.png\" alt=\"Dashboard 1\" />"
   ]
  },
  {
   "attachments": {},
   "cell_type": "markdown",
   "metadata": {},
   "source": [
    "***"
   ]
  },
  {
   "attachments": {},
   "cell_type": "markdown",
   "metadata": {},
   "source": [
    "## <font color = 'black'> <a href=\"https://public.tableau.com/shared/X2MSN2642?:display_count=n&:origin=viz_share_link\">Proposed New Market</a></font>\n",
    "\n"
   ]
  },
  {
   "cell_type": "code",
   "execution_count": 9,
   "metadata": {
    "vscode": {
     "languageId": "html"
    }
   },
   "outputs": [
    {
     "data": {
      "text/html": [
       "<div class='tableauPlaceholder' id='viz1683463838132' style='position: relative'><noscript><a href='#'><img alt=' ' src='https:&#47;&#47;public.tableau.com&#47;static&#47;images&#47;TC&#47;TCN8Z98HB&#47;1_rss.png' style='border: none' /></a></noscript><object class='tableauViz'  style='display:none;'><param name='host_url' value='https%3A%2F%2Fpublic.tableau.com%2F' /> <param name='embed_code_version' value='3' /> <param name='path' value='shared&#47;TCN8Z98HB' /> <param name='toolbar' value='yes' /><param name='static_image' value='https:&#47;&#47;public.tableau.com&#47;static&#47;images&#47;TC&#47;TCN8Z98HB&#47;1.png' /> <param name='animate_transition' value='yes' /><param name='display_static_image' value='yes' /><param name='display_spinner' value='yes' /><param name='display_overlay' value='yes' /><param name='display_count' value='yes' /><param name='language' value='en-US' /></object></div>                <script type='text/javascript'>                    var divElement = document.getElementById('viz1683463838132');                    var vizElement = divElement.getElementsByTagName('object')[0];                    if ( divElement.offsetWidth > 800 ) { vizElement.style.width='100%';vizElement.style.height=(divElement.offsetWidth*0.75)+'px';} else if ( divElement.offsetWidth > 500 ) { vizElement.style.width='100%';vizElement.style.height=(divElement.offsetWidth*0.75)+'px';} else { vizElement.style.width='100%';vizElement.style.height='1977px';}                     var scriptElement = document.createElement('script');                    scriptElement.src = 'https://public.tableau.com/javascripts/api/viz_v1.js';                    vizElement.parentNode.insertBefore(scriptElement, vizElement);                </script>\n"
      ],
      "text/plain": [
       "<IPython.core.display.HTML object>"
      ]
     },
     "metadata": {},
     "output_type": "display_data"
    }
   ],
   "source": [
    "%%html\n",
    "<div class='tableauPlaceholder' id='viz1683463838132' style='position: relative'><noscript><a href='#'><img alt=' ' src='https:&#47;&#47;public.tableau.com&#47;static&#47;images&#47;TC&#47;TCN8Z98HB&#47;1_rss.png' style='border: none' /></a></noscript><object class='tableauViz'  style='display:none;'><param name='host_url' value='https%3A%2F%2Fpublic.tableau.com%2F' /> <param name='embed_code_version' value='3' /> <param name='path' value='shared&#47;TCN8Z98HB' /> <param name='toolbar' value='yes' /><param name='static_image' value='https:&#47;&#47;public.tableau.com&#47;static&#47;images&#47;TC&#47;TCN8Z98HB&#47;1.png' /> <param name='animate_transition' value='yes' /><param name='display_static_image' value='yes' /><param name='display_spinner' value='yes' /><param name='display_overlay' value='yes' /><param name='display_count' value='yes' /><param name='language' value='en-US' /></object></div>                <script type='text/javascript'>                    var divElement = document.getElementById('viz1683463838132');                    var vizElement = divElement.getElementsByTagName('object')[0];                    if ( divElement.offsetWidth > 800 ) { vizElement.style.width='100%';vizElement.style.height=(divElement.offsetWidth*0.75)+'px';} else if ( divElement.offsetWidth > 500 ) { vizElement.style.width='100%';vizElement.style.height=(divElement.offsetWidth*0.75)+'px';} else { vizElement.style.width='100%';vizElement.style.height='1977px';}                     var scriptElement = document.createElement('script');                    scriptElement.src = 'https://public.tableau.com/javascripts/api/viz_v1.js';                    vizElement.parentNode.insertBefore(scriptElement, vizElement);                </script>"
   ]
  },
  {
   "attachments": {},
   "cell_type": "markdown",
   "metadata": {},
   "source": [
    "<img src=\"https://github.com/azizulkawser/tabeau/blob/main/Dashboard_2.png\" alt=\"Dashboard 2\" />"
   ]
  },
  {
   "attachments": {},
   "cell_type": "markdown",
   "metadata": {},
   "source": [
    "***"
   ]
  }
 ],
 "metadata": {
  "kernelspec": {
   "display_name": "firstEnv",
   "language": "python",
   "name": "firstenv"
  },
  "language_info": {
   "codemirror_mode": {
    "name": "ipython",
    "version": 3
   },
   "file_extension": ".py",
   "mimetype": "text/x-python",
   "name": "python",
   "nbconvert_exporter": "python",
   "pygments_lexer": "ipython3",
   "version": "3.8.8"
  },
  "orig_nbformat": 4
 },
 "nbformat": 4,
 "nbformat_minor": 2
}
